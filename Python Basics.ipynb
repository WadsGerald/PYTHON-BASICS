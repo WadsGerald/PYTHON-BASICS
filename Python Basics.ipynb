{
 "cells": [
  {
   "cell_type": "markdown",
   "id": "6c894ced-9063-4094-b059-fd2a4f71b17b",
   "metadata": {},
   "source": []
  },
  {
   "cell_type": "markdown",
   "id": "d46cfa10-fd43-44b9-8934-f57444e69507",
   "metadata": {},
   "source": [
    "1. What is Python, and why is it popular?\n",
    ".\n",
    " Python is a high-level, interpreted programming language known for its readability and simplicity. It's popular because it has a clear and concise syntax, extensive libraries, and is versatile, making it suitable for web development, data analysis, artificial intelligence, scientific computing, and more."
   ]
  },
  {
   "cell_type": "markdown",
   "id": "52bc9727-774a-46fd-90d9-9b8dda01d0eb",
   "metadata": {},
   "source": [
    "2. What is an interpreter in Python?\n",
    "\n",
    "   An interpreter in Python is a program that executes Python code by converting it into machine code at runtime. This allows for interactive coding and rapid development cycles."
   ]
  },
  {
   "cell_type": "markdown",
   "id": "c573ed66-cd12-4fbb-a734-f8aba9f92116",
   "metadata": {},
   "source": [
    "3. What are pre-defined keywords in Python?\n",
    "\n",
    "\n",
    "   Pre-defined keywords in Python are reserved words that have special meanings and cannot be used as identifiers . Examples include if, else, for, while, def, class, import"
   ]
  },
  {
   "cell_type": "markdown",
   "id": "05c31a0e-7cc2-4f00-b362-782483ca2b5b",
   "metadata": {},
   "source": [
    "4. Can keywords be used as variable names?\n",
    "\n",
    "   No, keywords cannot be used as variable names in Python because they are reserved for specific syntactical purposes."
   ]
  },
  {
   "cell_type": "markdown",
   "id": "9dc71eba-a5d5-45c1-8e85-583abd8ff7dc",
   "metadata": {},
   "source": [
    "5. What is mutability in Python?\n",
    "\n",
    "\n",
    "Mutability in Python refers to an object's ability to change its state or content after it has been created. Mutable objects can be modified, while immutable objects cannot be changed once created."
   ]
  },
  {
   "cell_type": "markdown",
   "id": "54b96403-43e3-467f-94b5-6f823c74a37c",
   "metadata": {},
   "source": [
    "6. Why are lists mutable, but tuples are immutable?\n",
    "\n",
    "\n",
    "   Lists are mutable, meaning their contents can be changed after creation. Tuples, on the other hand, are immutable, meaning once they are created, their contents cannot be altered. This distinction helps optimize performance and ensures data integrity when immutability is required."
   ]
  },
  {
   "cell_type": "markdown",
   "id": "f522ee37-ac7a-4cd7-ad2c-68edfffa6738",
   "metadata": {},
   "source": [
    "7. What is the difference between == and is operators in Python?\n",
    "\n",
    "\n",
    "The == operator checks for value equality, meaning it compares if two objects have the same value. The is operator checks for identity equality, meaning it compares if two objects are the same instance in memory."
   ]
  },
  {
   "cell_type": "markdown",
   "id": "0fee3319-4e99-466b-945f-b0fcc7909eff",
   "metadata": {},
   "source": [
    "8. What are logical operators in Python? \n",
    "\n",
    "\n",
    "Logical operators in Python are used to perform logical operations. They include and, or, and not:\n",
    "\n",
    "and: Returns True if both operands are true.\n",
    "\n",
    "or: Returns True if at least one operand is true.\n",
    "\n",
    "not: Returns True if the operand is false."
   ]
  },
  {
   "cell_type": "markdown",
   "id": "399e7bd7-17f9-419b-ba6c-1e34a3a88d44",
   "metadata": {},
   "source": [
    "9. What is type casting in Python?\n",
    "\n",
    "\n",
    "Type casting in Python refers to converting a value from one data type to another, such as from a string to an integer or from a float to an integer."
   ]
  },
  {
   "cell_type": "markdown",
   "id": "1de1bf3d-b6d3-4f92-8730-729eebc876fa",
   "metadata": {},
   "source": [
    "10. What is the difference between implicit and explicit type casting?\n",
    "\n",
    "Implicit type casting is done automatically by Python when converting data types.\n",
    "\n",
    "Explicit type casting requires manual conversion using functions like int(), float(), str(),"
   ]
  },
  {
   "cell_type": "markdown",
   "id": "4470bf52-fcc8-46ea-853d-057d4bef7143",
   "metadata": {},
   "source": [
    "11. What is the purpose of conditional statements in Python?\n",
    "\n",
    "\n",
    "Conditional statements in Python are used to execute different blocks of code based on certain conditions. They help control the flow of the program and make decisions."
   ]
  },
  {
   "cell_type": "markdown",
   "id": "67ba6cba-5aad-44d9-8ec8-3a82e5b4ea17",
   "metadata": {},
   "source": [
    "12. How does the elif statement work?\n",
    "\n",
    "\n",
    "The elif statement, short for \"else if,\" is used in conditional statements to check multiple conditions. It follows an if statement and provides an alternative condition to be checked if the previous if or elif condition is False."
   ]
  },
  {
   "cell_type": "markdown",
   "id": "258850cf-2c32-4e9a-8235-87331df7f1ba",
   "metadata": {},
   "source": [
    "13. What is the difference between for and while loops?\n",
    "\n",
    "for loops are used to iterate over a sequence (like a list, tuple, string, or range) and execute a block of code for each item in the sequence.\n",
    "while loops repeatedly execute a block of code as long as a specified condition is True."
   ]
  },
  {
   "cell_type": "markdown",
   "id": "81ec2ae7-b097-48ce-8d29-8664aee58ab4",
   "metadata": {},
   "source": [
    "14. Describe a scenario where a while loop is more suitable than a for loop.\n",
    "\n",
    "\n",
    "    A while loop is more suitable when you don't know the number of iterations in advance and need to keep looping based on a condition. For example, reading user input until a valid response is received, or processing data until a certain condition is met."
   ]
  },
  {
   "cell_type": "code",
   "execution_count": null,
   "id": "46123a4c-6e18-4e7c-bfe5-19b4ab55d152",
   "metadata": {},
   "outputs": [],
   "source": []
  },
  {
   "cell_type": "code",
   "execution_count": null,
   "id": "716ccb4e-98d0-43ee-a5ed-12d2b1e00917",
   "metadata": {},
   "outputs": [],
   "source": []
  },
  {
   "cell_type": "code",
   "execution_count": null,
   "id": "39481cf3-67eb-45bc-a195-c1590f0988a6",
   "metadata": {},
   "outputs": [],
   "source": []
  },
  {
   "cell_type": "markdown",
   "id": "3113efb0-bdf7-4cdf-a36b-79be4fccf652",
   "metadata": {},
   "source": [
    "PRACTICAL QUESTIONS"
   ]
  },
  {
   "cell_type": "markdown",
   "id": "651eb104-2bbb-4b61-8de7-44af6f6b045a",
   "metadata": {},
   "source": [
    "1. Write a Python program to print \"Hello, World!\""
   ]
  },
  {
   "cell_type": "code",
   "execution_count": 1,
   "id": "643c09f4-e4aa-45ef-9b5f-3ba0497a4d5d",
   "metadata": {},
   "outputs": [
    {
     "name": "stdout",
     "output_type": "stream",
     "text": [
      "Hello, World!\n"
     ]
    }
   ],
   "source": [
    "print(\"Hello, World!\")\n"
   ]
  },
  {
   "cell_type": "markdown",
   "id": "7599dfaa-673a-47b0-b27c-f1e65b904b27",
   "metadata": {},
   "source": [
    "2. Write a Python program that displays your name and age"
   ]
  },
  {
   "cell_type": "code",
   "execution_count": 3,
   "id": "8ebe7d9c-1ffb-4fb6-8b0d-5a6ed67e5404",
   "metadata": {},
   "outputs": [
    {
     "name": "stdout",
     "output_type": "stream",
     "text": [
      "My name is Your Name and I am 25 years old.\n"
     ]
    }
   ],
   "source": [
    "name = \"Your Name\"\n",
    "age = 25\n",
    "print(f\"My name is {name} and I am {age} years old.\")\n"
   ]
  },
  {
   "cell_type": "markdown",
   "id": "3bcc0b17-bbdf-4754-9362-3161a84faccf",
   "metadata": {},
   "source": [
    "3. Write code to print all the pre-defined keywords in Python using the keyword library"
   ]
  },
  {
   "cell_type": "code",
   "execution_count": 5,
   "id": "9cf3353b-ace0-48da-88c7-a7ec4c2da3b4",
   "metadata": {},
   "outputs": [
    {
     "name": "stdout",
     "output_type": "stream",
     "text": [
      "['False', 'None', 'True', 'and', 'as', 'assert', 'async', 'await', 'break', 'class', 'continue', 'def', 'del', 'elif', 'else', 'except', 'finally', 'for', 'from', 'global', 'if', 'import', 'in', 'is', 'lambda', 'nonlocal', 'not', 'or', 'pass', 'raise', 'return', 'try', 'while', 'with', 'yield']\n"
     ]
    }
   ],
   "source": [
    "import keyword\n",
    "print(keyword.kwlist)\n"
   ]
  },
  {
   "cell_type": "markdown",
   "id": "4428c58d-31a7-40a9-a390-8c43a1e82d8e",
   "metadata": {},
   "source": [
    "4. Write a program that checks if a given word is a Python keyword."
   ]
  },
  {
   "cell_type": "code",
   "execution_count": 7,
   "id": "cd70591c-51ac-4ec8-a122-df62a3311ee7",
   "metadata": {},
   "outputs": [
    {
     "name": "stdout",
     "output_type": "stream",
     "text": [
      "Is 'for' a Python keyword? True\n"
     ]
    }
   ],
   "source": [
    "import keyword\n",
    "\n",
    "def is_keyword(word):\n",
    "    return keyword.iskeyword(word)\n",
    "\n",
    "word = \"for\"\n",
    "print(f\"Is '{word}' a Python keyword? {is_keyword(word)}\")\n"
   ]
  },
  {
   "cell_type": "markdown",
   "id": "cc68f362-e2d9-4344-b52e-93535310ca98",
   "metadata": {},
   "source": [
    "5. Create a list and tuple in Python, and demonstrate how attempting to change an element works differently \n",
    "for each."
   ]
  },
  {
   "cell_type": "code",
   "execution_count": 9,
   "id": "2aeb956f-cfc8-4c34-b926-21fbbc860405",
   "metadata": {},
   "outputs": [
    {
     "name": "stdout",
     "output_type": "stream",
     "text": [
      "List after modification: [9, 2, 3]\n"
     ]
    },
    {
     "ename": "TypeError",
     "evalue": "'tuple' object does not support item assignment",
     "output_type": "error",
     "traceback": [
      "\u001b[1;31m---------------------------------------------------------------------------\u001b[0m",
      "\u001b[1;31mTypeError\u001b[0m                                 Traceback (most recent call last)",
      "Cell \u001b[1;32mIn[9], line 7\u001b[0m\n\u001b[0;32m      3\u001b[0m \u001b[38;5;28mprint\u001b[39m(\u001b[38;5;124m\"\u001b[39m\u001b[38;5;124mList after modification:\u001b[39m\u001b[38;5;124m\"\u001b[39m, my_list)\n\u001b[0;32m      6\u001b[0m my_tuple \u001b[38;5;241m=\u001b[39m (\u001b[38;5;241m1\u001b[39m, \u001b[38;5;241m2\u001b[39m, \u001b[38;5;241m3\u001b[39m)\n\u001b[1;32m----> 7\u001b[0m my_tuple[\u001b[38;5;241m0\u001b[39m]\u001b[38;5;241m=\u001b[39m \u001b[38;5;241m8\u001b[39m\n",
      "\u001b[1;31mTypeError\u001b[0m: 'tuple' object does not support item assignment"
     ]
    }
   ],
   "source": [
    "\n",
    "my_list = [1, 2, 3]\n",
    "my_list[0] = 9\n",
    "print(\"List after modification:\", my_list)\n",
    "\n",
    "\n",
    "my_tuple = (1, 2, 3)\n",
    "my_tuple[0]= 8\n"
   ]
  },
  {
   "cell_type": "markdown",
   "id": "eacdfdae-6a04-41bf-a163-e5c84a19e741",
   "metadata": {},
   "source": [
    "6. Write a function to demonstrate the behavior of mutable and immutable arguments."
   ]
  },
  {
   "cell_type": "code",
   "execution_count": 11,
   "id": "0e2d75e2-bdee-4744-b7cb-e1bb0e335194",
   "metadata": {},
   "outputs": [
    {
     "name": "stdout",
     "output_type": "stream",
     "text": [
      "Original list: [1, 2, 3]\n",
      "Modified list: [1, 2, 3, 4]\n",
      "List after function call: [1, 2, 3, 4]\n",
      "Original string: Hello\n",
      "Modified string: Hello world\n",
      "String after function call: Hello\n"
     ]
    }
   ],
   "source": [
    "def modify_list(lst):\n",
    "    lst.append(4)\n",
    "    return lst\n",
    "\n",
    "def modify_string(s):\n",
    "    s += \" world\"\n",
    "    return s\n",
    "\n",
    "\n",
    "my_list = [1, 2, 3]\n",
    "print(\"Original list:\", my_list)\n",
    "print(\"Modified list:\", modify_list(my_list))\n",
    "print(\"List after function call:\", my_list)\n",
    "\n",
    "\n",
    "my_string = \"Hello\"\n",
    "print(\"Original string:\", my_string)\n",
    "print(\"Modified string:\", modify_string(my_string))\n",
    "print(\"String after function call:\", my_string)\n"
   ]
  },
  {
   "cell_type": "markdown",
   "id": "3aa99409-3275-4a8a-8262-683a655f2384",
   "metadata": {},
   "source": [
    "7. Write a program that performs basic arithmetic operations on two user-input numbers."
   ]
  },
  {
   "cell_type": "code",
   "execution_count": 15,
   "id": "faf0fb19-d496-40a4-8c00-d83660668e85",
   "metadata": {},
   "outputs": [
    {
     "name": "stdin",
     "output_type": "stream",
     "text": [
      "Enter first number:  8\n",
      "Enter second number:  7\n"
     ]
    },
    {
     "name": "stdout",
     "output_type": "stream",
     "text": [
      "Sum: 15.0\n",
      "Difference: 1.0\n",
      "Product: 56.0\n",
      "Quotient: 1.1428571428571428\n"
     ]
    }
   ],
   "source": [
    "num1 = float(input(\"Enter first number: \"))\n",
    "num2 = float(input(\"Enter second number: \"))\n",
    "\n",
    "print(\"Sum:\", num1 + num2)\n",
    "print(\"Difference:\", num1 - num2)\n",
    "print(\"Product:\", num1 * num2)\n",
    "print(\"Quotient:\", num1 / num2)\n"
   ]
  },
  {
   "cell_type": "markdown",
   "id": "96de8804-d4f6-461a-99c4-fb7e05d6a7de",
   "metadata": {},
   "source": [
    "8. Write a program to demonstrate the use of logical operators."
   ]
  },
  {
   "cell_type": "code",
   "execution_count": 17,
   "id": "9e8f0a34-61ef-46f0-8f0b-9358703db284",
   "metadata": {},
   "outputs": [
    {
     "name": "stdout",
     "output_type": "stream",
     "text": [
      "a and b: False\n",
      "a or b: True\n",
      "not a: False\n"
     ]
    }
   ],
   "source": [
    "a = True\n",
    "b = False\n",
    "\n",
    "print(\"a and b:\", a and b)\n",
    "print(\"a or b:\", a or b)\n",
    "print(\"not a:\", not a)\n"
   ]
  },
  {
   "cell_type": "markdown",
   "id": "75e8d40c-a1dc-4b9d-99a8-c92ac70edff2",
   "metadata": {},
   "source": [
    "9. Write a Python program to convert user input from string to integer, float, and boolean types."
   ]
  },
  {
   "cell_type": "code",
   "execution_count": 23,
   "id": "4c248fbd-2581-4322-9d44-0b02ca0f8a2d",
   "metadata": {},
   "outputs": [
    {
     "name": "stdin",
     "output_type": "stream",
     "text": [
      "Enter a value:  34\n"
     ]
    },
    {
     "name": "stdout",
     "output_type": "stream",
     "text": [
      "Integer value: 34\n",
      "Float value: 34.0\n",
      "Boolean value: True\n"
     ]
    }
   ],
   "source": [
    "user_input = input(\"Enter a value: \")\n",
    "\n",
    "int_value = int(user_input)\n",
    "float_value = float(user_input)\n",
    "bool_value = bool(user_input)\n",
    "\n",
    "print(\"Integer value:\", int_value)\n",
    "print(\"Float value:\", float_value)\n",
    "print(\"Boolean value:\", bool_value)\n",
    "\n"
   ]
  },
  {
   "cell_type": "markdown",
   "id": "82ae21da-a635-467f-afd3-8a85fa358e26",
   "metadata": {},
   "source": [
    "10. Write code to demonstrate type casting with list elements."
   ]
  },
  {
   "cell_type": "code",
   "execution_count": 21,
   "id": "adf67f3d-ed76-4238-8ab9-fa88ffedbd5a",
   "metadata": {},
   "outputs": [
    {
     "name": "stdout",
     "output_type": "stream",
     "text": [
      "Original list: ['1', '2', '3']\n",
      "List after type casting: [1, 2, 3]\n"
     ]
    }
   ],
   "source": [
    "my_list = ['1', '2', '3']\n",
    "int_list = [int(x) for x in my_list]\n",
    "\n",
    "print(\"Original list:\", my_list)\n",
    "print(\"List after type casting:\", int_list)\n"
   ]
  },
  {
   "cell_type": "markdown",
   "id": "0a030f54-24c6-442f-9d5f-cb3aefe483e7",
   "metadata": {},
   "source": [
    "11. Write a program that checks if a number is positive, negative, or zero."
   ]
  },
  {
   "cell_type": "code",
   "execution_count": 25,
   "id": "1a33073a-8ca6-48cf-b0d0-d92a94fb5a80",
   "metadata": {},
   "outputs": [
    {
     "name": "stdin",
     "output_type": "stream",
     "text": [
      "Enter a number:  23\n"
     ]
    },
    {
     "name": "stdout",
     "output_type": "stream",
     "text": [
      "The number is positive.\n"
     ]
    }
   ],
   "source": [
    "number = float(input(\"Enter a number: \"))\n",
    "\n",
    "if number > 0:\n",
    "    print(\"The number is positive.\")\n",
    "elif number < 0:\n",
    "    print(\"The number is negative.\")\n",
    "else:\n",
    "    print(\"The number is zero.\")\n"
   ]
  },
  {
   "cell_type": "markdown",
   "id": "8b6b4c2e-2b65-4657-b556-95e6ac1caae0",
   "metadata": {},
   "source": [
    "12. Write a for loop to print numbers from 1 to 10."
   ]
  },
  {
   "cell_type": "code",
   "execution_count": 27,
   "id": "b86f2f67-cc82-4112-a2b1-298fb09ab4ec",
   "metadata": {},
   "outputs": [
    {
     "name": "stdout",
     "output_type": "stream",
     "text": [
      "1\n",
      "2\n",
      "3\n",
      "4\n",
      "5\n",
      "6\n",
      "7\n",
      "8\n",
      "9\n",
      "10\n"
     ]
    }
   ],
   "source": [
    "for i in range(1, 11):\n",
    "    print(i)\n"
   ]
  },
  {
   "cell_type": "markdown",
   "id": "80c111fc-fdc1-49e7-92a1-15a71b0f33fc",
   "metadata": {},
   "source": [
    "13. Write a Python program to find the sum of all even numbers between 1 and 50."
   ]
  },
  {
   "cell_type": "code",
   "execution_count": 29,
   "id": "9f1f051a-047e-42ab-8767-ac5298b7721d",
   "metadata": {},
   "outputs": [
    {
     "name": "stdout",
     "output_type": "stream",
     "text": [
      "Sum of all even numbers between 1 and 50: 650\n"
     ]
    }
   ],
   "source": [
    "total = 0\n",
    "for i in range(1, 51):\n",
    "    if i % 2 == 0:\n",
    "        total += i\n",
    "print(\"Sum of all even numbers between 1 and 50:\", total)\n"
   ]
  },
  {
   "cell_type": "markdown",
   "id": "cde552fc-7a36-4d80-8847-828755fa8ded",
   "metadata": {},
   "source": [
    "14. Write a program to reverse a string using a while loop."
   ]
  },
  {
   "cell_type": "code",
   "execution_count": 31,
   "id": "2c9654e5-7aa4-4248-9ec2-8e02543a11dd",
   "metadata": {},
   "outputs": [
    {
     "name": "stdin",
     "output_type": "stream",
     "text": [
      "Enter a string:  Data science analysis\n"
     ]
    },
    {
     "name": "stdout",
     "output_type": "stream",
     "text": [
      "Reversed string: sisylana ecneics ataD\n"
     ]
    }
   ],
   "source": [
    "user_string = input(\"Enter a string: \")\n",
    "reversed_string = \"\"\n",
    "index = len(user_string) - 1\n",
    "\n",
    "while index >= 0:\n",
    "    reversed_string += user_string[index]\n",
    "    index -= 1\n",
    "\n",
    "print(\"Reversed string:\", reversed_string)\n"
   ]
  },
  {
   "cell_type": "markdown",
   "id": "79ff7857-d0c1-4a12-85a9-33ac8254f6f4",
   "metadata": {},
   "source": [
    "15. Write a Python program to calculate the factorial of a number provided by the user using a while loop."
   ]
  },
  {
   "cell_type": "code",
   "execution_count": 33,
   "id": "91486f8b-0f95-4ef8-a15a-b6202d79e134",
   "metadata": {},
   "outputs": [
    {
     "name": "stdin",
     "output_type": "stream",
     "text": [
      "Enter a number:  4\n"
     ]
    },
    {
     "name": "stdout",
     "output_type": "stream",
     "text": [
      "Factorial: 24\n"
     ]
    }
   ],
   "source": [
    "number = int(input(\"Enter a number: \"))\n",
    "factorial = 1\n",
    "\n",
    "while number > 0:\n",
    "    factorial *= number\n",
    "    number -= 1\n",
    "\n",
    "print(\"Factorial:\", factorial)\n"
   ]
  },
  {
   "cell_type": "code",
   "execution_count": null,
   "id": "6aa73448-27dc-4d65-b2eb-5b7d7245a49b",
   "metadata": {},
   "outputs": [],
   "source": []
  }
 ],
 "metadata": {
  "kernelspec": {
   "display_name": "Python 3 (ipykernel)",
   "language": "python",
   "name": "python3"
  },
  "language_info": {
   "codemirror_mode": {
    "name": "ipython",
    "version": 3
   },
   "file_extension": ".py",
   "mimetype": "text/x-python",
   "name": "python",
   "nbconvert_exporter": "python",
   "pygments_lexer": "ipython3",
   "version": "3.12.7"
  }
 },
 "nbformat": 4,
 "nbformat_minor": 5
}
